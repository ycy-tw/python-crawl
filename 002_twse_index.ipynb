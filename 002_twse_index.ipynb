{
 "metadata": {
  "language_info": {
   "codemirror_mode": {
    "name": "ipython",
    "version": 3
   },
   "file_extension": ".py",
   "mimetype": "text/x-python",
   "name": "python",
   "nbconvert_exporter": "python",
   "pygments_lexer": "ipython3",
   "version": "3.7.3"
  },
  "orig_nbformat": 2,
  "kernelspec": {
   "name": "python373jvsc74a57bd0c7a9d7133166dea1451d31644e0236fa7f05cb13098c9b47ac7613fa26fdb898",
   "display_name": "Python 3.7.3 64-bit"
  }
 },
 "nbformat": 4,
 "nbformat_minor": 2,
 "cells": [
  {
   "source": [
    "### 臺灣證券交易所各類型指數日內報價(5秒)\n",
    "### Taiwan's indices intraday quote information."
   ],
   "cell_type": "markdown",
   "metadata": {}
  },
  {
   "cell_type": "code",
   "execution_count": 1,
   "metadata": {},
   "outputs": [],
   "source": [
    "from pandas.core.frame import DataFrame\n",
    "import pandas as pd\n",
    "\n",
    "\n",
    "def taiex_index(\n",
    "    date: str,\n",
    ") -> DataFrame:\n",
    "\n",
    "    url = 'https://www.twse.com.tw/exchangeReport'\n",
    "    url += f'/MI_5MINS_INDEX?response=csv&date={date}'\n",
    "    table = pd.read_table(url, encoding='big5')\n",
    "\n",
    "    data = list(table[table.columns[0]].str.split(',\"'))\n",
    "    df = pd.DataFrame(data)[0:-5]\n",
    "    df = df.apply(\n",
    "        lambda x: x\n",
    "        .str.replace('\"', '')\n",
    "        .str.replace('=', '')\n",
    "        .str.replace(',', '')\n",
    "    )\n",
    "    df.columns = df.loc[0]\n",
    "    df = df[1:]\n",
    "    df = df.astype(float)\n",
    "\n",
    "    return df"
   ]
  },
  {
   "cell_type": "code",
   "execution_count": 2,
   "metadata": {},
   "outputs": [
    {
     "output_type": "execute_result",
     "data": {
      "text/plain": [
       "0           時間 發行量加權股價指數 未含金融保險股指數   未含電子股指數 未含金融電子股指數   水泥類指數    食品類指數  \\\n",
       "1     09:00:00  17068.43  14972.54  18764.55  16266.15  203.29  1930.03   \n",
       "2     09:00:05  17098.49  15001.84  18822.09  16335.07  203.29  1923.15   \n",
       "3     09:00:10  17127.81  15029.44  18838.18  16350.37  203.35  1923.84   \n",
       "4     09:00:15  17134.52  15035.80  18840.39  16352.26  203.35  1923.70   \n",
       "5     09:00:20  17130.90  15031.88  18845.42  16356.99  203.23  1925.41   \n",
       "...        ...       ...       ...       ...       ...     ...      ...   \n",
       "3237  13:29:40  17149.44  15045.00  18991.81  16515.51  203.00  1941.86   \n",
       "3238  13:29:45  17149.44  15045.00  18991.81  16515.51  203.00  1941.86   \n",
       "3239  13:29:50  17149.44  15045.00  18991.81  16515.51  203.00  1941.86   \n",
       "3240  13:29:55  17149.44  15045.00  18991.81  16515.51  203.00  1941.86   \n",
       "3241  13:30:00  17162.38  15058.92  18992.28  16520.58  202.77  1940.69   \n",
       "\n",
       "0      塑膠類指數 紡織纖維類指數 電機機械類指數  ... 電子通路類指數 資訊服務類指數 其他電子類指數 建材營造類指數   航運類指數  \\\n",
       "1     289.61  697.51  244.83  ...  166.75  129.22  104.49  346.89  204.42   \n",
       "2     289.63  697.99  244.93  ...  166.96  129.22  104.54  347.06  208.69   \n",
       "3     289.99  698.36  245.66  ...  167.42  129.30  105.16  347.13  209.00   \n",
       "4     289.96  699.15  245.87  ...  167.61  129.51  105.49  347.19  209.04   \n",
       "5     289.55  699.63  246.35  ...  167.66  129.71  105.21  347.34  209.04   \n",
       "...      ...     ...     ...  ...     ...     ...     ...     ...     ...   \n",
       "3237  291.99  700.18  246.81  ...  169.50  130.20  105.44  346.96  219.90   \n",
       "3238  291.99  700.18  246.81  ...  169.50  130.20  105.44  346.96  219.90   \n",
       "3239  291.99  700.18  246.81  ...  169.50  130.20  105.44  346.96  219.90   \n",
       "3240  291.99  700.18  246.81  ...  169.50  130.20  105.44  346.96  219.90   \n",
       "3241  291.73  699.94  246.66  ...  169.38  130.18  105.42  347.44  220.13   \n",
       "\n",
       "0      觀光類指數  金融保險類指數 貿易百貨類指數 油電燃氣類指數   其他類指數  \n",
       "1      99.89  1506.65  297.23  129.65  362.97  \n",
       "2      99.98  1506.80  297.05  131.44  362.98  \n",
       "3      99.93  1507.78  297.11  131.44  363.17  \n",
       "4     100.10  1507.96  297.17  131.44  362.97  \n",
       "5     100.22  1508.28  297.20  131.44  362.83  \n",
       "...      ...      ...     ...     ...     ...  \n",
       "3237  101.78  1512.61  301.71  132.01  362.76  \n",
       "3238  101.78  1512.61  301.71  132.01  362.76  \n",
       "3239  101.78  1512.61  301.71  132.01  362.76  \n",
       "3240  101.78  1512.61  301.71  132.01  362.76  \n",
       "3241  101.80  1511.55  301.88  132.01  362.89  \n",
       "\n",
       "[3241 rows x 35 columns]"
      ],
      "text/html": "<div>\n<style scoped>\n    .dataframe tbody tr th:only-of-type {\n        vertical-align: middle;\n    }\n\n    .dataframe tbody tr th {\n        vertical-align: top;\n    }\n\n    .dataframe thead th {\n        text-align: right;\n    }\n</style>\n<table border=\"1\" class=\"dataframe\">\n  <thead>\n    <tr style=\"text-align: right;\">\n      <th></th>\n      <th>時間</th>\n      <th>發行量加權股價指數</th>\n      <th>未含金融保險股指數</th>\n      <th>未含電子股指數</th>\n      <th>未含金融電子股指數</th>\n      <th>水泥類指數</th>\n      <th>食品類指數</th>\n      <th>塑膠類指數</th>\n      <th>紡織纖維類指數</th>\n      <th>電機機械類指數</th>\n      <th>...</th>\n      <th>電子通路類指數</th>\n      <th>資訊服務類指數</th>\n      <th>其他電子類指數</th>\n      <th>建材營造類指數</th>\n      <th>航運類指數</th>\n      <th>觀光類指數</th>\n      <th>金融保險類指數</th>\n      <th>貿易百貨類指數</th>\n      <th>油電燃氣類指數</th>\n      <th>其他類指數</th>\n    </tr>\n  </thead>\n  <tbody>\n    <tr>\n      <th>1</th>\n      <td>09:00:00</td>\n      <td>17068.43</td>\n      <td>14972.54</td>\n      <td>18764.55</td>\n      <td>16266.15</td>\n      <td>203.29</td>\n      <td>1930.03</td>\n      <td>289.61</td>\n      <td>697.51</td>\n      <td>244.83</td>\n      <td>...</td>\n      <td>166.75</td>\n      <td>129.22</td>\n      <td>104.49</td>\n      <td>346.89</td>\n      <td>204.42</td>\n      <td>99.89</td>\n      <td>1506.65</td>\n      <td>297.23</td>\n      <td>129.65</td>\n      <td>362.97</td>\n    </tr>\n    <tr>\n      <th>2</th>\n      <td>09:00:05</td>\n      <td>17098.49</td>\n      <td>15001.84</td>\n      <td>18822.09</td>\n      <td>16335.07</td>\n      <td>203.29</td>\n      <td>1923.15</td>\n      <td>289.63</td>\n      <td>697.99</td>\n      <td>244.93</td>\n      <td>...</td>\n      <td>166.96</td>\n      <td>129.22</td>\n      <td>104.54</td>\n      <td>347.06</td>\n      <td>208.69</td>\n      <td>99.98</td>\n      <td>1506.80</td>\n      <td>297.05</td>\n      <td>131.44</td>\n      <td>362.98</td>\n    </tr>\n    <tr>\n      <th>3</th>\n      <td>09:00:10</td>\n      <td>17127.81</td>\n      <td>15029.44</td>\n      <td>18838.18</td>\n      <td>16350.37</td>\n      <td>203.35</td>\n      <td>1923.84</td>\n      <td>289.99</td>\n      <td>698.36</td>\n      <td>245.66</td>\n      <td>...</td>\n      <td>167.42</td>\n      <td>129.30</td>\n      <td>105.16</td>\n      <td>347.13</td>\n      <td>209.00</td>\n      <td>99.93</td>\n      <td>1507.78</td>\n      <td>297.11</td>\n      <td>131.44</td>\n      <td>363.17</td>\n    </tr>\n    <tr>\n      <th>4</th>\n      <td>09:00:15</td>\n      <td>17134.52</td>\n      <td>15035.80</td>\n      <td>18840.39</td>\n      <td>16352.26</td>\n      <td>203.35</td>\n      <td>1923.70</td>\n      <td>289.96</td>\n      <td>699.15</td>\n      <td>245.87</td>\n      <td>...</td>\n      <td>167.61</td>\n      <td>129.51</td>\n      <td>105.49</td>\n      <td>347.19</td>\n      <td>209.04</td>\n      <td>100.10</td>\n      <td>1507.96</td>\n      <td>297.17</td>\n      <td>131.44</td>\n      <td>362.97</td>\n    </tr>\n    <tr>\n      <th>5</th>\n      <td>09:00:20</td>\n      <td>17130.90</td>\n      <td>15031.88</td>\n      <td>18845.42</td>\n      <td>16356.99</td>\n      <td>203.23</td>\n      <td>1925.41</td>\n      <td>289.55</td>\n      <td>699.63</td>\n      <td>246.35</td>\n      <td>...</td>\n      <td>167.66</td>\n      <td>129.71</td>\n      <td>105.21</td>\n      <td>347.34</td>\n      <td>209.04</td>\n      <td>100.22</td>\n      <td>1508.28</td>\n      <td>297.20</td>\n      <td>131.44</td>\n      <td>362.83</td>\n    </tr>\n    <tr>\n      <th>...</th>\n      <td>...</td>\n      <td>...</td>\n      <td>...</td>\n      <td>...</td>\n      <td>...</td>\n      <td>...</td>\n      <td>...</td>\n      <td>...</td>\n      <td>...</td>\n      <td>...</td>\n      <td>...</td>\n      <td>...</td>\n      <td>...</td>\n      <td>...</td>\n      <td>...</td>\n      <td>...</td>\n      <td>...</td>\n      <td>...</td>\n      <td>...</td>\n      <td>...</td>\n      <td>...</td>\n    </tr>\n    <tr>\n      <th>3237</th>\n      <td>13:29:40</td>\n      <td>17149.44</td>\n      <td>15045.00</td>\n      <td>18991.81</td>\n      <td>16515.51</td>\n      <td>203.00</td>\n      <td>1941.86</td>\n      <td>291.99</td>\n      <td>700.18</td>\n      <td>246.81</td>\n      <td>...</td>\n      <td>169.50</td>\n      <td>130.20</td>\n      <td>105.44</td>\n      <td>346.96</td>\n      <td>219.90</td>\n      <td>101.78</td>\n      <td>1512.61</td>\n      <td>301.71</td>\n      <td>132.01</td>\n      <td>362.76</td>\n    </tr>\n    <tr>\n      <th>3238</th>\n      <td>13:29:45</td>\n      <td>17149.44</td>\n      <td>15045.00</td>\n      <td>18991.81</td>\n      <td>16515.51</td>\n      <td>203.00</td>\n      <td>1941.86</td>\n      <td>291.99</td>\n      <td>700.18</td>\n      <td>246.81</td>\n      <td>...</td>\n      <td>169.50</td>\n      <td>130.20</td>\n      <td>105.44</td>\n      <td>346.96</td>\n      <td>219.90</td>\n      <td>101.78</td>\n      <td>1512.61</td>\n      <td>301.71</td>\n      <td>132.01</td>\n      <td>362.76</td>\n    </tr>\n    <tr>\n      <th>3239</th>\n      <td>13:29:50</td>\n      <td>17149.44</td>\n      <td>15045.00</td>\n      <td>18991.81</td>\n      <td>16515.51</td>\n      <td>203.00</td>\n      <td>1941.86</td>\n      <td>291.99</td>\n      <td>700.18</td>\n      <td>246.81</td>\n      <td>...</td>\n      <td>169.50</td>\n      <td>130.20</td>\n      <td>105.44</td>\n      <td>346.96</td>\n      <td>219.90</td>\n      <td>101.78</td>\n      <td>1512.61</td>\n      <td>301.71</td>\n      <td>132.01</td>\n      <td>362.76</td>\n    </tr>\n    <tr>\n      <th>3240</th>\n      <td>13:29:55</td>\n      <td>17149.44</td>\n      <td>15045.00</td>\n      <td>18991.81</td>\n      <td>16515.51</td>\n      <td>203.00</td>\n      <td>1941.86</td>\n      <td>291.99</td>\n      <td>700.18</td>\n      <td>246.81</td>\n      <td>...</td>\n      <td>169.50</td>\n      <td>130.20</td>\n      <td>105.44</td>\n      <td>346.96</td>\n      <td>219.90</td>\n      <td>101.78</td>\n      <td>1512.61</td>\n      <td>301.71</td>\n      <td>132.01</td>\n      <td>362.76</td>\n    </tr>\n    <tr>\n      <th>3241</th>\n      <td>13:30:00</td>\n      <td>17162.38</td>\n      <td>15058.92</td>\n      <td>18992.28</td>\n      <td>16520.58</td>\n      <td>202.77</td>\n      <td>1940.69</td>\n      <td>291.73</td>\n      <td>699.94</td>\n      <td>246.66</td>\n      <td>...</td>\n      <td>169.38</td>\n      <td>130.18</td>\n      <td>105.42</td>\n      <td>347.44</td>\n      <td>220.13</td>\n      <td>101.80</td>\n      <td>1511.55</td>\n      <td>301.88</td>\n      <td>132.01</td>\n      <td>362.89</td>\n    </tr>\n  </tbody>\n</table>\n<p>3241 rows × 35 columns</p>\n</div>"
     },
     "metadata": {},
     "execution_count": 2
    }
   ],
   "source": [
    "taiex_index('20210601')"
   ]
  }
 ]
}