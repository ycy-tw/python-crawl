{
 "metadata": {
  "language_info": {
   "codemirror_mode": {
    "name": "ipython",
    "version": 3
   },
   "file_extension": ".py",
   "mimetype": "text/x-python",
   "name": "python",
   "nbconvert_exporter": "python",
   "pygments_lexer": "ipython3",
   "version": "3.7.3"
  },
  "orig_nbformat": 2,
  "kernelspec": {
   "name": "python37364bit370ef11f255243fa8c7c0f45fc6f7e13",
   "display_name": "Python 3.7.3 64-bit"
  },
  "metadata": {
   "interpreter": {
    "hash": "c7a9d7133166dea1451d31644e0236fa7f05cb13098c9b47ac7613fa26fdb898"
   }
  }
 },
 "nbformat": 4,
 "nbformat_minor": 2,
 "cells": [
  {
   "source": [
    "### 臺灣上市公司融資融券(包含ETF)\n",
    "### Taiwan listed firm's margin purhcase and short sales information(including ETF)"
   ],
   "cell_type": "markdown",
   "metadata": {}
  },
  {
   "cell_type": "code",
   "execution_count": 1,
   "metadata": {},
   "outputs": [],
   "source": [
    "from pandas.core.frame import DataFrame\n",
    "import requests\n",
    "import pandas as pd\n",
    "\n",
    "\n",
    "def get_margin(date: str) -> DataFrame:\n",
    "\n",
    "    url = 'https://www.twse.com.tw/exchangeReport/'\n",
    "    url += f'MI_MARGN?response=json&date={date}&selectType=ALL'\n",
    "\n",
    "    res = requests.get(url)\n",
    "    source = res.json()\n",
    "    df = pd.DataFrame(source['data'], columns=source['fields'])\n",
    "\n",
    "    return df\n"
   ]
  },
  {
   "cell_type": "code",
   "execution_count": 2,
   "metadata": {},
   "outputs": [
    {
     "output_type": "execute_result",
     "data": {
      "text/plain": [
       "      股票代號     股票名稱     買進     賣出 現金償還    前日餘額    今日餘額       限額  買進  賣出 現券償還  \\\n",
       "0     0050   元大台灣50     12      1    0     504     515  295,625   0   0    0   \n",
       "1     0051  元大中型100      8     16    0      81      73    2,625   0   0    0   \n",
       "2     0052     富邦科技     13     10    0     391     394   12,625   0   0    0   \n",
       "3     0053     元大電子      0      0    0       1       1    1,372   0   0    0   \n",
       "4     0054   元大台商50      0      0    0       0       0    1,781   0   0    0   \n",
       "...    ...      ...    ...    ...  ...     ...     ...      ...  ..  ..  ...   \n",
       "1061  9944       新麗     24     32    0   7,371   7,363   27,276   0   0    0   \n",
       "1062  9945      潤泰新    431    230    0   6,903   7,104  376,220   3   2    0   \n",
       "1063  9946     三發地產      4     11    0   1,096   1,089   80,250   0   0    0   \n",
       "1064  9955       佳龍    314    547    0   1,816   1,583   25,802  24   0    0   \n",
       "1065  9958      世紀鋼  3,252  1,893    8  14,889  16,240   57,525  13  81    1   \n",
       "\n",
       "     前日餘額 今日餘額       限額 資券互抵  註記  \n",
       "0     159  159  295,625    0      \n",
       "1       0    0    2,625    0      \n",
       "2       8    8   12,625    0      \n",
       "3       0    0    1,372    0      \n",
       "4       0    0    1,781    0  X   \n",
       "...   ...  ...      ...  ...  ..  \n",
       "1061    0    0   27,276    0      \n",
       "1062   24   23  376,220    0      \n",
       "1063    0    0   80,250    0      \n",
       "1064   78   54   25,802   11      \n",
       "1065  109  176   57,525   16      \n",
       "\n",
       "[1066 rows x 16 columns]"
      ],
      "text/html": "<div>\n<style scoped>\n    .dataframe tbody tr th:only-of-type {\n        vertical-align: middle;\n    }\n\n    .dataframe tbody tr th {\n        vertical-align: top;\n    }\n\n    .dataframe thead th {\n        text-align: right;\n    }\n</style>\n<table border=\"1\" class=\"dataframe\">\n  <thead>\n    <tr style=\"text-align: right;\">\n      <th></th>\n      <th>股票代號</th>\n      <th>股票名稱</th>\n      <th>買進</th>\n      <th>賣出</th>\n      <th>現金償還</th>\n      <th>前日餘額</th>\n      <th>今日餘額</th>\n      <th>限額</th>\n      <th>買進</th>\n      <th>賣出</th>\n      <th>現券償還</th>\n      <th>前日餘額</th>\n      <th>今日餘額</th>\n      <th>限額</th>\n      <th>資券互抵</th>\n      <th>註記</th>\n    </tr>\n  </thead>\n  <tbody>\n    <tr>\n      <th>0</th>\n      <td>0050</td>\n      <td>元大台灣50</td>\n      <td>12</td>\n      <td>1</td>\n      <td>0</td>\n      <td>504</td>\n      <td>515</td>\n      <td>295,625</td>\n      <td>0</td>\n      <td>0</td>\n      <td>0</td>\n      <td>159</td>\n      <td>159</td>\n      <td>295,625</td>\n      <td>0</td>\n      <td></td>\n    </tr>\n    <tr>\n      <th>1</th>\n      <td>0051</td>\n      <td>元大中型100</td>\n      <td>8</td>\n      <td>16</td>\n      <td>0</td>\n      <td>81</td>\n      <td>73</td>\n      <td>2,625</td>\n      <td>0</td>\n      <td>0</td>\n      <td>0</td>\n      <td>0</td>\n      <td>0</td>\n      <td>2,625</td>\n      <td>0</td>\n      <td></td>\n    </tr>\n    <tr>\n      <th>2</th>\n      <td>0052</td>\n      <td>富邦科技</td>\n      <td>13</td>\n      <td>10</td>\n      <td>0</td>\n      <td>391</td>\n      <td>394</td>\n      <td>12,625</td>\n      <td>0</td>\n      <td>0</td>\n      <td>0</td>\n      <td>8</td>\n      <td>8</td>\n      <td>12,625</td>\n      <td>0</td>\n      <td></td>\n    </tr>\n    <tr>\n      <th>3</th>\n      <td>0053</td>\n      <td>元大電子</td>\n      <td>0</td>\n      <td>0</td>\n      <td>0</td>\n      <td>1</td>\n      <td>1</td>\n      <td>1,372</td>\n      <td>0</td>\n      <td>0</td>\n      <td>0</td>\n      <td>0</td>\n      <td>0</td>\n      <td>1,372</td>\n      <td>0</td>\n      <td></td>\n    </tr>\n    <tr>\n      <th>4</th>\n      <td>0054</td>\n      <td>元大台商50</td>\n      <td>0</td>\n      <td>0</td>\n      <td>0</td>\n      <td>0</td>\n      <td>0</td>\n      <td>1,781</td>\n      <td>0</td>\n      <td>0</td>\n      <td>0</td>\n      <td>0</td>\n      <td>0</td>\n      <td>1,781</td>\n      <td>0</td>\n      <td>X</td>\n    </tr>\n    <tr>\n      <th>...</th>\n      <td>...</td>\n      <td>...</td>\n      <td>...</td>\n      <td>...</td>\n      <td>...</td>\n      <td>...</td>\n      <td>...</td>\n      <td>...</td>\n      <td>...</td>\n      <td>...</td>\n      <td>...</td>\n      <td>...</td>\n      <td>...</td>\n      <td>...</td>\n      <td>...</td>\n      <td>...</td>\n    </tr>\n    <tr>\n      <th>1061</th>\n      <td>9944</td>\n      <td>新麗</td>\n      <td>24</td>\n      <td>32</td>\n      <td>0</td>\n      <td>7,371</td>\n      <td>7,363</td>\n      <td>27,276</td>\n      <td>0</td>\n      <td>0</td>\n      <td>0</td>\n      <td>0</td>\n      <td>0</td>\n      <td>27,276</td>\n      <td>0</td>\n      <td></td>\n    </tr>\n    <tr>\n      <th>1062</th>\n      <td>9945</td>\n      <td>潤泰新</td>\n      <td>431</td>\n      <td>230</td>\n      <td>0</td>\n      <td>6,903</td>\n      <td>7,104</td>\n      <td>376,220</td>\n      <td>3</td>\n      <td>2</td>\n      <td>0</td>\n      <td>24</td>\n      <td>23</td>\n      <td>376,220</td>\n      <td>0</td>\n      <td></td>\n    </tr>\n    <tr>\n      <th>1063</th>\n      <td>9946</td>\n      <td>三發地產</td>\n      <td>4</td>\n      <td>11</td>\n      <td>0</td>\n      <td>1,096</td>\n      <td>1,089</td>\n      <td>80,250</td>\n      <td>0</td>\n      <td>0</td>\n      <td>0</td>\n      <td>0</td>\n      <td>0</td>\n      <td>80,250</td>\n      <td>0</td>\n      <td></td>\n    </tr>\n    <tr>\n      <th>1064</th>\n      <td>9955</td>\n      <td>佳龍</td>\n      <td>314</td>\n      <td>547</td>\n      <td>0</td>\n      <td>1,816</td>\n      <td>1,583</td>\n      <td>25,802</td>\n      <td>24</td>\n      <td>0</td>\n      <td>0</td>\n      <td>78</td>\n      <td>54</td>\n      <td>25,802</td>\n      <td>11</td>\n      <td></td>\n    </tr>\n    <tr>\n      <th>1065</th>\n      <td>9958</td>\n      <td>世紀鋼</td>\n      <td>3,252</td>\n      <td>1,893</td>\n      <td>8</td>\n      <td>14,889</td>\n      <td>16,240</td>\n      <td>57,525</td>\n      <td>13</td>\n      <td>81</td>\n      <td>1</td>\n      <td>109</td>\n      <td>176</td>\n      <td>57,525</td>\n      <td>16</td>\n      <td></td>\n    </tr>\n  </tbody>\n</table>\n<p>1066 rows × 16 columns</p>\n</div>"
     },
     "metadata": {},
     "execution_count": 2
    }
   ],
   "source": [
    "get_margin('20210510')"
   ]
  }
 ]
}