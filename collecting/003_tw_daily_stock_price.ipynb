{
 "metadata": {
  "language_info": {
   "codemirror_mode": {
    "name": "ipython",
    "version": 3
   },
   "file_extension": ".py",
   "mimetype": "text/x-python",
   "name": "python",
   "nbconvert_exporter": "python",
   "pygments_lexer": "ipython3",
   "version": "3.7.3"
  },
  "orig_nbformat": 2,
  "kernelspec": {
   "name": "python37364bit370ef11f255243fa8c7c0f45fc6f7e13",
   "display_name": "Python 3.7.3 64-bit"
  },
  "metadata": {
   "interpreter": {
    "hash": "c7a9d7133166dea1451d31644e0236fa7f05cb13098c9b47ac7613fa26fdb898"
   }
  }
 },
 "nbformat": 4,
 "nbformat_minor": 2,
 "cells": [
  {
   "source": [
    "### 臺灣上市公司股票價格(含公司債)\n",
    "### Taiwan listed stock's price."
   ],
   "cell_type": "markdown",
   "metadata": {}
  },
  {
   "cell_type": "code",
   "execution_count": 1,
   "metadata": {},
   "outputs": [],
   "source": [
    "from pandas.core.frame import DataFrame\n",
    "import requests\n",
    "import pandas as pd\n",
    "\n",
    "def get_stock_price(date:str) -> DataFrame:\n",
    "\n",
    "    # get csv file\n",
    "    url = 'https://www.twse.com.tw/exchangeReport'\n",
    "    url += f'/MI_INDEX?response=csv&date={date}&type=ALL'\n",
    "    res = requests.get(url)\n",
    "    data = res.text\n",
    "\n",
    "    # cleaning process\n",
    "    cleaned_data = []\n",
    "    for da in data.split('\\n'):\n",
    "        if len(da.split('\",\"')) == 16 and da.split('\",\"')[0][0] != '=':\n",
    "            cleaned_data.append([ele.replace('\",\\r','').replace('\"','') \n",
    "                                for ele in da.split('\",\"')])\n",
    "            \n",
    "    # output\n",
    "    df = pd.DataFrame(cleaned_data, columns = cleaned_data[0])\n",
    "    df = df.set_index('證券代號')[1:]\n",
    "\n",
    "    return df"
   ]
  },
  {
   "cell_type": "code",
   "execution_count": 2,
   "metadata": {},
   "outputs": [
    {
     "output_type": "execute_result",
     "data": {
      "text/plain": [
       "       證券名稱       成交股數   成交筆數         成交金額     開盤價     最高價     最低價     收盤價  \\\n",
       "證券代號                                                                         \n",
       "1101     台泥  9,774,499  4,923  502,441,292   51.60   51.60   51.20   51.50   \n",
       "1101B  台泥乙特      3,119     12      167,076   53.50   53.60   53.50   53.60   \n",
       "1102     亞泥  7,274,980  2,979  375,093,096   51.90   51.90   51.30   51.60   \n",
       "1103     嘉泥  1,378,521    616   30,436,310   22.25   22.40   21.95   22.20   \n",
       "1104     環泥    468,921    247   10,736,042   23.15   23.15   22.75   22.95   \n",
       "...     ...        ...    ...          ...     ...     ...     ...     ...   \n",
       "9944     新麗    568,458    286   12,313,613   21.80   21.85   21.55   21.75   \n",
       "9945    潤泰新  2,511,710  1,487  131,697,159   52.40   52.60   52.30   52.50   \n",
       "9946   三發地產    123,223     70    1,838,351   14.90   15.00   14.85   14.90   \n",
       "9955     佳龍    616,862    332   12,277,473   20.10   20.20   19.50   19.95   \n",
       "9958    世紀鋼  4,052,666  2,467  458,036,545  111.50  114.50  111.50  113.50   \n",
       "\n",
       "      漲跌(+/-)  漲跌價差  最後揭示買價 最後揭示買量  最後揭示賣價 最後揭示賣量    本益比  \n",
       "證券代號                                                      \n",
       "1101        -  0.10   51.50     38   51.60  1,245  12.32  \n",
       "1101B          0.00   53.20      2   53.50      1   0.00  \n",
       "1102        -  0.30   51.60     11   51.70  1,017  10.10  \n",
       "1103        -  0.05   22.20     30   22.25     33   7.74  \n",
       "1104        +  0.20   22.90      3   22.95     12  10.48  \n",
       "...       ...   ...     ...    ...     ...    ...    ...  \n",
       "9944        -  0.10   21.70     19   21.75     11  29.39  \n",
       "9945           0.00   52.50     16   52.60     74   6.44  \n",
       "9946        +  0.05   14.90      7   15.00     26  93.12  \n",
       "9955        +  0.10   19.95     14   20.10      5   0.00  \n",
       "9958        +  3.00  113.50      6  114.00    202  24.57  \n",
       "\n",
       "[985 rows x 15 columns]"
      ],
      "text/html": "<div>\n<style scoped>\n    .dataframe tbody tr th:only-of-type {\n        vertical-align: middle;\n    }\n\n    .dataframe tbody tr th {\n        vertical-align: top;\n    }\n\n    .dataframe thead th {\n        text-align: right;\n    }\n</style>\n<table border=\"1\" class=\"dataframe\">\n  <thead>\n    <tr style=\"text-align: right;\">\n      <th></th>\n      <th>證券名稱</th>\n      <th>成交股數</th>\n      <th>成交筆數</th>\n      <th>成交金額</th>\n      <th>開盤價</th>\n      <th>最高價</th>\n      <th>最低價</th>\n      <th>收盤價</th>\n      <th>漲跌(+/-)</th>\n      <th>漲跌價差</th>\n      <th>最後揭示買價</th>\n      <th>最後揭示買量</th>\n      <th>最後揭示賣價</th>\n      <th>最後揭示賣量</th>\n      <th>本益比</th>\n    </tr>\n    <tr>\n      <th>證券代號</th>\n      <th></th>\n      <th></th>\n      <th></th>\n      <th></th>\n      <th></th>\n      <th></th>\n      <th></th>\n      <th></th>\n      <th></th>\n      <th></th>\n      <th></th>\n      <th></th>\n      <th></th>\n      <th></th>\n      <th></th>\n    </tr>\n  </thead>\n  <tbody>\n    <tr>\n      <th>1101</th>\n      <td>台泥</td>\n      <td>9,774,499</td>\n      <td>4,923</td>\n      <td>502,441,292</td>\n      <td>51.60</td>\n      <td>51.60</td>\n      <td>51.20</td>\n      <td>51.50</td>\n      <td>-</td>\n      <td>0.10</td>\n      <td>51.50</td>\n      <td>38</td>\n      <td>51.60</td>\n      <td>1,245</td>\n      <td>12.32</td>\n    </tr>\n    <tr>\n      <th>1101B</th>\n      <td>台泥乙特</td>\n      <td>3,119</td>\n      <td>12</td>\n      <td>167,076</td>\n      <td>53.50</td>\n      <td>53.60</td>\n      <td>53.50</td>\n      <td>53.60</td>\n      <td></td>\n      <td>0.00</td>\n      <td>53.20</td>\n      <td>2</td>\n      <td>53.50</td>\n      <td>1</td>\n      <td>0.00</td>\n    </tr>\n    <tr>\n      <th>1102</th>\n      <td>亞泥</td>\n      <td>7,274,980</td>\n      <td>2,979</td>\n      <td>375,093,096</td>\n      <td>51.90</td>\n      <td>51.90</td>\n      <td>51.30</td>\n      <td>51.60</td>\n      <td>-</td>\n      <td>0.30</td>\n      <td>51.60</td>\n      <td>11</td>\n      <td>51.70</td>\n      <td>1,017</td>\n      <td>10.10</td>\n    </tr>\n    <tr>\n      <th>1103</th>\n      <td>嘉泥</td>\n      <td>1,378,521</td>\n      <td>616</td>\n      <td>30,436,310</td>\n      <td>22.25</td>\n      <td>22.40</td>\n      <td>21.95</td>\n      <td>22.20</td>\n      <td>-</td>\n      <td>0.05</td>\n      <td>22.20</td>\n      <td>30</td>\n      <td>22.25</td>\n      <td>33</td>\n      <td>7.74</td>\n    </tr>\n    <tr>\n      <th>1104</th>\n      <td>環泥</td>\n      <td>468,921</td>\n      <td>247</td>\n      <td>10,736,042</td>\n      <td>23.15</td>\n      <td>23.15</td>\n      <td>22.75</td>\n      <td>22.95</td>\n      <td>+</td>\n      <td>0.20</td>\n      <td>22.90</td>\n      <td>3</td>\n      <td>22.95</td>\n      <td>12</td>\n      <td>10.48</td>\n    </tr>\n    <tr>\n      <th>...</th>\n      <td>...</td>\n      <td>...</td>\n      <td>...</td>\n      <td>...</td>\n      <td>...</td>\n      <td>...</td>\n      <td>...</td>\n      <td>...</td>\n      <td>...</td>\n      <td>...</td>\n      <td>...</td>\n      <td>...</td>\n      <td>...</td>\n      <td>...</td>\n      <td>...</td>\n    </tr>\n    <tr>\n      <th>9944</th>\n      <td>新麗</td>\n      <td>568,458</td>\n      <td>286</td>\n      <td>12,313,613</td>\n      <td>21.80</td>\n      <td>21.85</td>\n      <td>21.55</td>\n      <td>21.75</td>\n      <td>-</td>\n      <td>0.10</td>\n      <td>21.70</td>\n      <td>19</td>\n      <td>21.75</td>\n      <td>11</td>\n      <td>29.39</td>\n    </tr>\n    <tr>\n      <th>9945</th>\n      <td>潤泰新</td>\n      <td>2,511,710</td>\n      <td>1,487</td>\n      <td>131,697,159</td>\n      <td>52.40</td>\n      <td>52.60</td>\n      <td>52.30</td>\n      <td>52.50</td>\n      <td></td>\n      <td>0.00</td>\n      <td>52.50</td>\n      <td>16</td>\n      <td>52.60</td>\n      <td>74</td>\n      <td>6.44</td>\n    </tr>\n    <tr>\n      <th>9946</th>\n      <td>三發地產</td>\n      <td>123,223</td>\n      <td>70</td>\n      <td>1,838,351</td>\n      <td>14.90</td>\n      <td>15.00</td>\n      <td>14.85</td>\n      <td>14.90</td>\n      <td>+</td>\n      <td>0.05</td>\n      <td>14.90</td>\n      <td>7</td>\n      <td>15.00</td>\n      <td>26</td>\n      <td>93.12</td>\n    </tr>\n    <tr>\n      <th>9955</th>\n      <td>佳龍</td>\n      <td>616,862</td>\n      <td>332</td>\n      <td>12,277,473</td>\n      <td>20.10</td>\n      <td>20.20</td>\n      <td>19.50</td>\n      <td>19.95</td>\n      <td>+</td>\n      <td>0.10</td>\n      <td>19.95</td>\n      <td>14</td>\n      <td>20.10</td>\n      <td>5</td>\n      <td>0.00</td>\n    </tr>\n    <tr>\n      <th>9958</th>\n      <td>世紀鋼</td>\n      <td>4,052,666</td>\n      <td>2,467</td>\n      <td>458,036,545</td>\n      <td>111.50</td>\n      <td>114.50</td>\n      <td>111.50</td>\n      <td>113.50</td>\n      <td>+</td>\n      <td>3.00</td>\n      <td>113.50</td>\n      <td>6</td>\n      <td>114.00</td>\n      <td>202</td>\n      <td>24.57</td>\n    </tr>\n  </tbody>\n</table>\n<p>985 rows × 15 columns</p>\n</div>"
     },
     "metadata": {},
     "execution_count": 2
    }
   ],
   "source": [
    "get_stock_price('20210601')"
   ]
  }
 ]
}