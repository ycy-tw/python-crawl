{
 "metadata": {
  "language_info": {
   "codemirror_mode": {
    "name": "ipython",
    "version": 3
   },
   "file_extension": ".py",
   "mimetype": "text/x-python",
   "name": "python",
   "nbconvert_exporter": "python",
   "pygments_lexer": "ipython3",
   "version": "3.7.3"
  },
  "orig_nbformat": 2,
  "kernelspec": {
   "name": "python373jvsc74a57bd0c7a9d7133166dea1451d31644e0236fa7f05cb13098c9b47ac7613fa26fdb898",
   "display_name": "Python 3.7.3 64-bit"
  }
 },
 "nbformat": 4,
 "nbformat_minor": 2,
 "cells": [
  {
   "source": [
    "### 台指選擇權日內逐筆成交資訊\n",
    "\n",
    "註:僅能抓近30天"
   ],
   "cell_type": "markdown",
   "metadata": {}
  },
  {
   "cell_type": "code",
   "execution_count": 1,
   "metadata": {},
   "outputs": [],
   "source": [
    "from pandas.core.frame import DataFrame\n",
    "from datetime import datetime\n",
    "import pandas as pd\n",
    "import requests\n",
    "import io\n",
    "import zipfile\n",
    "\n",
    "\n",
    "def get_option_mtf(date: str) -> DataFrame:\n",
    "\n",
    "    date = '_'.join([date[0:4], date[4:6], date[6:8]])\n",
    "    \n",
    "    url = 'https://www.taifex.com.tw/file/taifex'\n",
    "    url += '/Dailydownload/OptionsDailydownloadCSV'\n",
    "    url += f'/OptionsDaily_{date}.zip'\n",
    "    res = requests.get(url)\n",
    "\n",
    "    fractionSharesZip = io.BytesIO(res.content)\n",
    "    fractionSharesZip = zipfile.ZipFile(fractionSharesZip)\n",
    "    fractionSharesZip.extractall('')\n",
    "\n",
    "    with open(f'OptionsDaily_{date}.csv', encoding='big5') as f:\n",
    "        data = []\n",
    "        for row in f:\n",
    "            ele = []\n",
    "            row = row.strip().replace('\\t', '').split(',')\n",
    "            for d in row:\n",
    "                ele.append(d.strip())\n",
    "            data.append(ele)\n",
    "\n",
    "    df = pd.DataFrame(data[2:], columns=data[0])\n",
    "\n",
    "    df['成交日期'] = df['成交日期'] + df['成交時間']\n",
    "    df['成交日期'] = df['成交日期'].apply(lambda x: datetime.strptime(x, '%Y%m%d%H%M%S'))\n",
    "\n",
    "    df.drop('成交時間', axis=1, inplace=True)\n",
    "    df.drop('開盤集合競價', axis=1, inplace=True)\n",
    "\n",
    "    df.columns = ['daytime', 'merchandise', 'strike', 'maturity', 'cp', 'price', 'volume']\n",
    "\n",
    "    df['strike'] = df['strike'].astype(float)\n",
    "    df['price'] = df['price'].astype(float)\n",
    "    df['volume'] = df['volume'].astype(int)\n",
    "\n",
    "    return df\n"
   ]
  },
  {
   "cell_type": "code",
   "execution_count": 2,
   "metadata": {},
   "outputs": [
    {
     "output_type": "execute_result",
     "data": {
      "text/plain": [
       "                   daytime merchandise   strike maturity cp  price  volume\n",
       "0      2021-06-01 11:12:37         CCO     60.0   202107  C   1.97       3\n",
       "1      2021-06-01 11:12:37         CCO     60.0   202107  C   1.97       3\n",
       "2      2021-06-01 13:22:59         CDO    525.0   202107  P   4.16       1\n",
       "3      2021-06-01 13:22:59         CDO    525.0   202107  P   4.16       1\n",
       "4      2021-06-01 13:25:18         CDO    550.0   202106  P   1.58       1\n",
       "...                    ...         ...      ...      ... ..    ...     ...\n",
       "388791 2021-05-31 22:06:02         TXO  20300.0   202107  C   4.00       2\n",
       "388792 2021-06-01 09:59:57         TXO  20300.0   202107  C   4.20       1\n",
       "388793 2021-06-01 09:59:57         TXO  20300.0   202107  C   4.20       1\n",
       "388794 2021-06-01 10:03:05         TXO  20300.0   202107  C   4.40       2\n",
       "388795 2021-06-01 10:03:05         TXO  20300.0   202107  C   4.40       2\n",
       "\n",
       "[388796 rows x 7 columns]"
      ],
      "text/html": "<div>\n<style scoped>\n    .dataframe tbody tr th:only-of-type {\n        vertical-align: middle;\n    }\n\n    .dataframe tbody tr th {\n        vertical-align: top;\n    }\n\n    .dataframe thead th {\n        text-align: right;\n    }\n</style>\n<table border=\"1\" class=\"dataframe\">\n  <thead>\n    <tr style=\"text-align: right;\">\n      <th></th>\n      <th>daytime</th>\n      <th>merchandise</th>\n      <th>strike</th>\n      <th>maturity</th>\n      <th>cp</th>\n      <th>price</th>\n      <th>volume</th>\n    </tr>\n  </thead>\n  <tbody>\n    <tr>\n      <th>0</th>\n      <td>2021-06-01 11:12:37</td>\n      <td>CCO</td>\n      <td>60.0</td>\n      <td>202107</td>\n      <td>C</td>\n      <td>1.97</td>\n      <td>3</td>\n    </tr>\n    <tr>\n      <th>1</th>\n      <td>2021-06-01 11:12:37</td>\n      <td>CCO</td>\n      <td>60.0</td>\n      <td>202107</td>\n      <td>C</td>\n      <td>1.97</td>\n      <td>3</td>\n    </tr>\n    <tr>\n      <th>2</th>\n      <td>2021-06-01 13:22:59</td>\n      <td>CDO</td>\n      <td>525.0</td>\n      <td>202107</td>\n      <td>P</td>\n      <td>4.16</td>\n      <td>1</td>\n    </tr>\n    <tr>\n      <th>3</th>\n      <td>2021-06-01 13:22:59</td>\n      <td>CDO</td>\n      <td>525.0</td>\n      <td>202107</td>\n      <td>P</td>\n      <td>4.16</td>\n      <td>1</td>\n    </tr>\n    <tr>\n      <th>4</th>\n      <td>2021-06-01 13:25:18</td>\n      <td>CDO</td>\n      <td>550.0</td>\n      <td>202106</td>\n      <td>P</td>\n      <td>1.58</td>\n      <td>1</td>\n    </tr>\n    <tr>\n      <th>...</th>\n      <td>...</td>\n      <td>...</td>\n      <td>...</td>\n      <td>...</td>\n      <td>...</td>\n      <td>...</td>\n      <td>...</td>\n    </tr>\n    <tr>\n      <th>388791</th>\n      <td>2021-05-31 22:06:02</td>\n      <td>TXO</td>\n      <td>20300.0</td>\n      <td>202107</td>\n      <td>C</td>\n      <td>4.00</td>\n      <td>2</td>\n    </tr>\n    <tr>\n      <th>388792</th>\n      <td>2021-06-01 09:59:57</td>\n      <td>TXO</td>\n      <td>20300.0</td>\n      <td>202107</td>\n      <td>C</td>\n      <td>4.20</td>\n      <td>1</td>\n    </tr>\n    <tr>\n      <th>388793</th>\n      <td>2021-06-01 09:59:57</td>\n      <td>TXO</td>\n      <td>20300.0</td>\n      <td>202107</td>\n      <td>C</td>\n      <td>4.20</td>\n      <td>1</td>\n    </tr>\n    <tr>\n      <th>388794</th>\n      <td>2021-06-01 10:03:05</td>\n      <td>TXO</td>\n      <td>20300.0</td>\n      <td>202107</td>\n      <td>C</td>\n      <td>4.40</td>\n      <td>2</td>\n    </tr>\n    <tr>\n      <th>388795</th>\n      <td>2021-06-01 10:03:05</td>\n      <td>TXO</td>\n      <td>20300.0</td>\n      <td>202107</td>\n      <td>C</td>\n      <td>4.40</td>\n      <td>2</td>\n    </tr>\n  </tbody>\n</table>\n<p>388796 rows × 7 columns</p>\n</div>"
     },
     "metadata": {},
     "execution_count": 2
    }
   ],
   "source": [
    "get_option_mtf('20210601')"
   ]
  }
 ]
}